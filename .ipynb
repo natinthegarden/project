{
 "cells": [
  {
   "attachments": {},
   "cell_type": "markdown",
   "metadata": {},
   "source": [
    "install necessary packages"
   ]
  },
  {
   "cell_type": "code",
   "execution_count": 1,
   "metadata": {},
   "outputs": [],
   "source": [
    "import requests\n",
    "from bs4 import BeautifulSoup\n",
    "import pandas as pd\n",
    "import pandasql as ps\n",
    "import re\n",
    "import matplotlib.pyplot as plt\n"
   ]
  },
  {
   "attachments": {},
   "cell_type": "markdown",
   "metadata": {},
   "source": [
    "I will start by reading in the two Jane Austen books from project gutenberg: \"Sense and Sensibility\" and \"Pride and Prejudice\""
   ]
  },
  {
   "cell_type": "code",
   "execution_count": 2,
   "metadata": {},
   "outputs": [],
   "source": [
    "url_sense = \"https://www.gutenberg.org/files/21839/21839-0.txt\"\n",
    "url_pride = \"https://www.gutenberg.org/files/1342/1342-0.txt\"\n",
    "\n",
    "response_sense = requests.get(url_sense)\n",
    "response_pride = requests.get(url_pride)\n",
    "\n",
    "if response_sense.status_code == 200 and response_pride.status_code == 200:\n",
    "    sense_data = response_sense.text\n",
    "    pride_data = response_pride.text"
   ]
  },
  {
   "attachments": {},
   "cell_type": "markdown",
   "metadata": {},
   "source": [
    "Next I am splitting these books I've read in by words"
   ]
  },
  {
   "cell_type": "code",
   "execution_count": 22,
   "metadata": {},
   "outputs": [],
   "source": [
    "# Data Cleaning and Splitting into Words for Sense and Sensibility\n",
    "sense_words = sense_data.split()\n",
    "\n",
    "# Data Cleaning and Splitting into Words for Pride and Prejudice\n",
    "pride_words = pride_data.split()"
   ]
  },
  {
   "attachments": {},
   "cell_type": "markdown",
   "metadata": {},
   "source": [
    "Next, we'll make 2 series that will have the words extracted from the two texts."
   ]
  },
  {
   "cell_type": "code",
   "execution_count": 24,
   "metadata": {},
   "outputs": [],
   "source": [
    " # Create Series for Sense and Sensibility and Pride and Prejudice\n",
    "sense_series = pd.Series(sense_words, name=\"Sense and Sensibility\")\n",
    "pride_series = pd.Series(pride_words, name=\"Pride and Prejudice\")"
   ]
  },
  {
   "attachments": {},
   "cell_type": "markdown",
   "metadata": {},
   "source": [
    "Finally, I'll merge these two data sets."
   ]
  },
  {
   "cell_type": "code",
   "execution_count": 25,
   "metadata": {},
   "outputs": [
    {
     "name": "stdout",
     "output_type": "stream",
     "text": [
      "  Sense and Sensibility Pride and Prejudice\n",
      "0                ï»¿The              ï»¿The\n",
      "1               Project             Project\n",
      "2             Gutenberg           Gutenberg\n",
      "3                 eBook               eBook\n",
      "4                    of                  of\n"
     ]
    }
   ],
   "source": [
    "# Concatenate Series to form the DataFrame\n",
    "austen_merged_df = pd.concat([sense_series, pride_series], axis=1)\n",
    "\n",
    "# Display the DataFrame with words from both books in separate columns\n",
    "print(austen_merged_df.head())\n"
   ]
  },
  {
   "attachments": {},
   "cell_type": "markdown",
   "metadata": {},
   "source": [
    "Next I will clean the data some by chunking this text by sentences. I'll look for normal sentence endings like \"!,?,.\" to make sense of where each sentence starts and stops.\n",
    "\n",
    "I'll do this for both books."
   ]
  },
  {
   "cell_type": "code",
   "execution_count": 4,
   "metadata": {},
   "outputs": [],
   "source": [
    " # Data Cleaning and Splitting into Sentences\n",
    "sentences_sense = re.split(r'\\. |\\? |\\! ', sense_data)  \n",
    "sentences_pride = re.split(r'\\. |\\? |\\! ', pride_data) "
   ]
  },
  {
   "attachments": {},
   "cell_type": "markdown",
   "metadata": {},
   "source": [
    "Next, I'd like to calcultate the word count in each of books by the sentences I've just broken them down to."
   ]
  },
  {
   "cell_type": "code",
   "execution_count": 5,
   "metadata": {},
   "outputs": [],
   "source": [
    "# Calculate word count for each sentence\n",
    "sentence_word_counts_sense = [len(sentence.split()) for sentence in sentences_sense]\n",
    "sentence_word_counts_pride = [len(sentence.split()) for sentence in sentences_pride]"
   ]
  },
  {
   "attachments": {},
   "cell_type": "markdown",
   "metadata": {},
   "source": [
    "Now to calculate cumulative word counts, this will help with later tracking sentences in chapters."
   ]
  },
  {
   "cell_type": "code",
   "execution_count": 6,
   "metadata": {},
   "outputs": [],
   "source": [
    "# Calculate cumulative word count for sentences\n",
    "cumulative_word_counts_sense = [sum(sentence_word_counts_sense[:i+1]) for i in range(len(sentence_word_counts_sense))]\n",
    "cumulative_word_counts_pride = [sum(sentence_word_counts_pride[:i+1]) for i in range(len(sentence_word_counts_pride))]"
   ]
  },
  {
   "attachments": {},
   "cell_type": "markdown",
   "metadata": {},
   "source": [
    "Now I'd like to break the text into chapters and add a chapter column to the data frame."
   ]
  },
  {
   "cell_type": "code",
   "execution_count": 28,
   "metadata": {},
   "outputs": [
    {
     "ename": "ValueError",
     "evalue": "Length of values (0) does not match length of index (130416)",
     "output_type": "error",
     "traceback": [
      "\u001b[0;31m---------------------------------------------------------------------------\u001b[0m",
      "\u001b[0;31mValueError\u001b[0m                                Traceback (most recent call last)",
      "Cell \u001b[0;32mIn[28], line 12\u001b[0m\n\u001b[1;32m      9\u001b[0m chapter_numbers_pride \u001b[39m=\u001b[39m [\u001b[39mf\u001b[39m\u001b[39m\"\u001b[39m\u001b[39mChapter \u001b[39m\u001b[39m{\u001b[39;00mi\u001b[39m}\u001b[39;00m\u001b[39m\"\u001b[39m \u001b[39mfor\u001b[39;00m i \u001b[39min\u001b[39;00m \u001b[39mrange\u001b[39m(\u001b[39m1\u001b[39m, \u001b[39mlen\u001b[39m(chapters_pride) \u001b[39m+\u001b[39m \u001b[39m1\u001b[39m)]\n\u001b[1;32m     11\u001b[0m \u001b[39m# Add Chapter Columns to the DataFrame\u001b[39;00m\n\u001b[0;32m---> 12\u001b[0m austen_merged_df[\u001b[39m\"\u001b[39;49m\u001b[39mChapter Sense\u001b[39;49m\u001b[39m\"\u001b[39;49m] \u001b[39m=\u001b[39m chapter_numbers_sense\n\u001b[1;32m     13\u001b[0m austen_merged_df[\u001b[39m\"\u001b[39m\u001b[39mChapter Pride\u001b[39m\u001b[39m\"\u001b[39m] \u001b[39m=\u001b[39m chapter_numbers_pride\n\u001b[1;32m     15\u001b[0m \u001b[39m# Display the DataFrame with words and chapter information for both books\u001b[39;00m\n",
      "File \u001b[0;32m~/Desktop/coding/project/venv/lib/python3.11/site-packages/pandas/core/frame.py:3950\u001b[0m, in \u001b[0;36mDataFrame.__setitem__\u001b[0;34m(self, key, value)\u001b[0m\n\u001b[1;32m   3947\u001b[0m     \u001b[39mself\u001b[39m\u001b[39m.\u001b[39m_setitem_array([key], value)\n\u001b[1;32m   3948\u001b[0m \u001b[39melse\u001b[39;00m:\n\u001b[1;32m   3949\u001b[0m     \u001b[39m# set column\u001b[39;00m\n\u001b[0;32m-> 3950\u001b[0m     \u001b[39mself\u001b[39;49m\u001b[39m.\u001b[39;49m_set_item(key, value)\n",
      "File \u001b[0;32m~/Desktop/coding/project/venv/lib/python3.11/site-packages/pandas/core/frame.py:4143\u001b[0m, in \u001b[0;36mDataFrame._set_item\u001b[0;34m(self, key, value)\u001b[0m\n\u001b[1;32m   4133\u001b[0m \u001b[39mdef\u001b[39;00m \u001b[39m_set_item\u001b[39m(\u001b[39mself\u001b[39m, key, value) \u001b[39m-\u001b[39m\u001b[39m>\u001b[39m \u001b[39mNone\u001b[39;00m:\n\u001b[1;32m   4134\u001b[0m \u001b[39m    \u001b[39m\u001b[39m\"\"\"\u001b[39;00m\n\u001b[1;32m   4135\u001b[0m \u001b[39m    Add series to DataFrame in specified column.\u001b[39;00m\n\u001b[1;32m   4136\u001b[0m \n\u001b[0;32m   (...)\u001b[0m\n\u001b[1;32m   4141\u001b[0m \u001b[39m    ensure homogeneity.\u001b[39;00m\n\u001b[1;32m   4142\u001b[0m \u001b[39m    \"\"\"\u001b[39;00m\n\u001b[0;32m-> 4143\u001b[0m     value \u001b[39m=\u001b[39m \u001b[39mself\u001b[39;49m\u001b[39m.\u001b[39;49m_sanitize_column(value)\n\u001b[1;32m   4145\u001b[0m     \u001b[39mif\u001b[39;00m (\n\u001b[1;32m   4146\u001b[0m         key \u001b[39min\u001b[39;00m \u001b[39mself\u001b[39m\u001b[39m.\u001b[39mcolumns\n\u001b[1;32m   4147\u001b[0m         \u001b[39mand\u001b[39;00m value\u001b[39m.\u001b[39mndim \u001b[39m==\u001b[39m \u001b[39m1\u001b[39m\n\u001b[1;32m   4148\u001b[0m         \u001b[39mand\u001b[39;00m \u001b[39mnot\u001b[39;00m is_extension_array_dtype(value)\n\u001b[1;32m   4149\u001b[0m     ):\n\u001b[1;32m   4150\u001b[0m         \u001b[39m# broadcast across multiple columns if necessary\u001b[39;00m\n\u001b[1;32m   4151\u001b[0m         \u001b[39mif\u001b[39;00m \u001b[39mnot\u001b[39;00m \u001b[39mself\u001b[39m\u001b[39m.\u001b[39mcolumns\u001b[39m.\u001b[39mis_unique \u001b[39mor\u001b[39;00m \u001b[39misinstance\u001b[39m(\u001b[39mself\u001b[39m\u001b[39m.\u001b[39mcolumns, MultiIndex):\n",
      "File \u001b[0;32m~/Desktop/coding/project/venv/lib/python3.11/site-packages/pandas/core/frame.py:4870\u001b[0m, in \u001b[0;36mDataFrame._sanitize_column\u001b[0;34m(self, value)\u001b[0m\n\u001b[1;32m   4867\u001b[0m     \u001b[39mreturn\u001b[39;00m _reindex_for_setitem(Series(value), \u001b[39mself\u001b[39m\u001b[39m.\u001b[39mindex)\n\u001b[1;32m   4869\u001b[0m \u001b[39mif\u001b[39;00m is_list_like(value):\n\u001b[0;32m-> 4870\u001b[0m     com\u001b[39m.\u001b[39;49mrequire_length_match(value, \u001b[39mself\u001b[39;49m\u001b[39m.\u001b[39;49mindex)\n\u001b[1;32m   4871\u001b[0m \u001b[39mreturn\u001b[39;00m sanitize_array(value, \u001b[39mself\u001b[39m\u001b[39m.\u001b[39mindex, copy\u001b[39m=\u001b[39m\u001b[39mTrue\u001b[39;00m, allow_2d\u001b[39m=\u001b[39m\u001b[39mTrue\u001b[39;00m)\n",
      "File \u001b[0;32m~/Desktop/coding/project/venv/lib/python3.11/site-packages/pandas/core/common.py:576\u001b[0m, in \u001b[0;36mrequire_length_match\u001b[0;34m(data, index)\u001b[0m\n\u001b[1;32m    572\u001b[0m \u001b[39m\u001b[39m\u001b[39m\"\"\"\u001b[39;00m\n\u001b[1;32m    573\u001b[0m \u001b[39mCheck the length of data matches the length of the index.\u001b[39;00m\n\u001b[1;32m    574\u001b[0m \u001b[39m\"\"\"\u001b[39;00m\n\u001b[1;32m    575\u001b[0m \u001b[39mif\u001b[39;00m \u001b[39mlen\u001b[39m(data) \u001b[39m!=\u001b[39m \u001b[39mlen\u001b[39m(index):\n\u001b[0;32m--> 576\u001b[0m     \u001b[39mraise\u001b[39;00m \u001b[39mValueError\u001b[39;00m(\n\u001b[1;32m    577\u001b[0m         \u001b[39m\"\u001b[39m\u001b[39mLength of values \u001b[39m\u001b[39m\"\u001b[39m\n\u001b[1;32m    578\u001b[0m         \u001b[39mf\u001b[39m\u001b[39m\"\u001b[39m\u001b[39m(\u001b[39m\u001b[39m{\u001b[39;00m\u001b[39mlen\u001b[39m(data)\u001b[39m}\u001b[39;00m\u001b[39m) \u001b[39m\u001b[39m\"\u001b[39m\n\u001b[1;32m    579\u001b[0m         \u001b[39m\"\u001b[39m\u001b[39mdoes not match length of index \u001b[39m\u001b[39m\"\u001b[39m\n\u001b[1;32m    580\u001b[0m         \u001b[39mf\u001b[39m\u001b[39m\"\u001b[39m\u001b[39m(\u001b[39m\u001b[39m{\u001b[39;00m\u001b[39mlen\u001b[39m(index)\u001b[39m}\u001b[39;00m\u001b[39m)\u001b[39m\u001b[39m\"\u001b[39m\n\u001b[1;32m    581\u001b[0m     )\n",
      "\u001b[0;31mValueError\u001b[0m: Length of values (0) does not match length of index (130416)"
     ]
    }
   ],
   "source": []
  },
  {
   "attachments": {},
   "cell_type": "markdown",
   "metadata": {},
   "source": [
    "Next I'd like to make columns for this sentence data in the data frames I've already made. "
   ]
  },
  {
   "cell_type": "code",
   "execution_count": 7,
   "metadata": {},
   "outputs": [],
   "source": [
    "  # Add the sentence data and cumulative word counts to the sense_data DataFrame\n",
    "sense_data_df = pd.DataFrame({\n",
    "        \"Sentence\": sentences_sense,\n",
    "        \"Word_Count\": cumulative_word_counts_sense\n",
    "    \n",
    "    })\n",
    "\n",
    " # Add the sentence data and cumulative word counts to the pride_data DataFrame\n",
    "pride_data_df = pd.DataFrame({\n",
    "        \"Sentence\": sentences_pride,\n",
    "        \"Word_Count\": cumulative_word_counts_pride\n",
    "      \n",
    "    })"
   ]
  },
  {
   "cell_type": "markdown",
   "metadata": {},
   "source": []
  },
  {
   "cell_type": "code",
   "execution_count": 10,
   "metadata": {},
   "outputs": [],
   "source": [
    "word_count_comparison = austen_merged_df[\"Words\"].value_counts()\n",
    "\n",
    "sentence_length_sense = sense_data.split(\".\")\n",
    "sentence_length_pride = pride_data.split(\".\")\n",
    "\n",
    "avg_sentence_length_sense = sum(len(sentence.split()) for sentence in sentence_length_sense) / len(sentence_length_sense)\n",
    "avg_sentence_length_pride = sum(len(sentence.split()) for sentence in sentence_length_pride) / len(sentence_length_pride)\n"
   ]
  },
  {
   "cell_type": "code",
   "execution_count": 11,
   "metadata": {},
   "outputs": [
    {
     "name": "stdout",
     "output_type": "stream",
     "text": [
      "Word Count Comparison:\n",
      "Words\n",
      "the           18743913\n",
      "to            17698500\n",
      "of            14683896\n",
      "and           11613239\n",
      "a              4242079\n",
      "                ...   \n",
      "deceived;            1\n",
      "miserable;           1\n",
      "forwarded            1\n",
      "gone;                1\n",
      "eBooks.              1\n",
      "Name: count, Length: 6910, dtype: int64\n",
      "\n",
      "Average Sentence Length (Sense and Sensibility):\n",
      "23.867677725118483\n",
      "\n",
      "Average Sentence Length (Pride and Prejudice):\n",
      "19.716469354113592\n"
     ]
    }
   ],
   "source": [
    "print(\"Word Count Comparison:\")\n",
    "print(word_count_comparison)\n",
    "\n",
    "print(\"\\nAverage Sentence Length (Sense and Sensibility):\")\n",
    "print(avg_sentence_length_sense)\n",
    "\n",
    "print(\"\\nAverage Sentence Length (Pride and Prejudice):\")\n",
    "print(avg_sentence_length_pride)"
   ]
  },
  {
   "cell_type": "code",
   "execution_count": 12,
   "metadata": {},
   "outputs": [],
   "source": [
    "# Line Chart\n",
    "#plt.subplot(1, 3, 2)\n",
    "#plt.plot([0, 1], [avg_sentence_length_sense, avg_sentence_length_pride], marker=\"o\")\n",
    "#plt.title(\"Average Sentence Length\")\n",
    "#plt.xticks([0, 1], [\"Sense and Sensibility\", \"Pride and Prejudice\"])\n",
    "#plt.xlabel(\"Novel\")\n",
    "#plt.ylabel(\"Average Length\")\n"
   ]
  },
  {
   "cell_type": "code",
   "execution_count": 13,
   "metadata": {},
   "outputs": [
    {
     "data": {
      "image/png": "[encoded data removed]",
      "text/plain": [
       "<Figure size 640x480 with 1 Axes>"
      ]
     },
     "metadata": {},
     "output_type": "display_data"
    }
   ],
   "source": [
    "query = \"SELECT Words, COUNT(*) as Count FROM merged_df GROUP BY Words ORDER BY Count DESC LIMIT 5\"\n",
    "result = ps.sqldf(query) \n",
    "\n",
    "# Pie Chart\n",
    "plt.subplot(1, 3, 3)\n",
    "plt.pie(result[\"Count\"], labels=result[\"Words\"], autopct=\"%1.1f%%\")\n",
    "plt.title(\"Most Common Words\")\n",
    "plt.axis(\"equal\")\n",
    "\n",
    "plt.tight_layout()\n",
    "plt.show()"
   ]
  },
  {
   "cell_type": "code",
   "execution_count": 14,
   "metadata": {},
   "outputs": [
    {
     "name": "stdout",
     "output_type": "stream",
     "text": [
      "Empty DataFrame\n",
      "Columns: [Chapter, Content, Word_Count]\n",
      "Index: []\n"
     ]
    }
   ],
   "source": [
    "# Data Cleaning and Splitting into Chapters\n",
    "chapters = re.split(r'\\bChapter \\d+\\b', pride_data)[1:]  # Splitting based on chapter headings\n",
    "chapter_numbers = [f\"Chapter {i}\" for i in range(1, len(chapters) + 1)]\n",
    "\n",
    "# Calculate word count for each chapter\n",
    "word_counts = [len(chapter.split()) for chapter in chapters]\n",
    "\n",
    "# Create a DataFrame to store the chapter data\n",
    "chapter_df = pd.DataFrame({\n",
    "        \"Chapter\": chapter_numbers,\n",
    "        \"Content\": chapters,\n",
    "        \"Word_Count\": word_counts\n",
    "    })\n",
    "\n",
    " # Display the DataFrame\n",
    "print(chapter_df)\n"
   ]
  }
 ],
 "metadata": {
  "kernelspec": {
   "display_name": "venv",
   "language": "python",
   "name": "python3"
  },
  "language_info": {
   "codemirror_mode": {
    "name": "ipython",
    "version": 3
   },
   "file_extension": ".py",
   "mimetype": "text/x-python",
   "name": "python",
   "nbconvert_exporter": "python",
   "pygments_lexer": "ipython3",
   "version": "3.11.2"
  },
  "orig_nbformat": 4
 },
 "nbformat": 4,
 "nbformat_minor": 2
}
