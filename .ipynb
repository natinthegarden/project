{
 "cells": [
  {
   "attachments": {},
   "cell_type": "markdown",
   "metadata": {},
   "source": [
    "install necessary packages"
   ]
  },
  {
   "cell_type": "code",
   "execution_count": 49,
   "metadata": {},
   "outputs": [],
   "source": [
    "import requests\n",
    "from bs4 import BeautifulSoup\n",
    "import pandas as pd\n",
    "import pandasql as ps\n",
    "import re\n",
    "import matplotlib.pyplot as plt\n"
   ]
  },
  {
   "attachments": {},
   "cell_type": "markdown",
   "metadata": {},
   "source": [
    "reading in the two Jane Austen books from project gutenberg: \"Sense and Sensibility\" and \"Pride and Prejudice\""
   ]
  },
  {
   "cell_type": "code",
   "execution_count": 50,
   "metadata": {},
   "outputs": [],
   "source": [
    "url_sense = \"https://www.gutenberg.org/files/21839/21839-0.txt\"\n",
    "url_pride = \"https://www.gutenberg.org/files/1342/1342-0.txt\"\n",
    "\n",
    "response_sense = requests.get(url_sense)\n",
    "response_pride = requests.get(url_pride)\n",
    "\n",
    "if response_sense.status_code == 200 and response_pride.status_code == 200:\n",
    "    sense_data = response_sense.text\n",
    "    pride_data = response_pride.text"
   ]
  },
  {
   "attachments": {},
   "cell_type": "markdown",
   "metadata": {},
   "source": [
    "Next I'll merge these to dat frames with a join"
   ]
  },
  {
   "cell_type": "code",
   "execution_count": 51,
   "metadata": {},
   "outputs": [],
   "source": [
    "# Data Cleaning and Merge\n",
    "sense_words = sense_data.split()\n",
    "pride_words = pride_data.split()\n",
    "\n",
    "sense_df = pd.DataFrame({\"Words\": sense_words})\n",
    "pride_df = pd.DataFrame({\"Words\": pride_words})\n",
    "\n",
    "merged_df = pd.merge(sense_df, pride_df, on=\"Words\", how=\"inner\")"
   ]
  },
  {
   "attachments": {},
   "cell_type": "markdown",
   "metadata": {},
   "source": [
    "Next I will clean the data some by breaking some of this text apart by sentences. I'll look for normal sentence breaks like \"!,?,.\" to make sense of where each sentence starts and stops.\n",
    "\n",
    "I'll do this for both books"
   ]
  },
  {
   "cell_type": "code",
   "execution_count": 52,
   "metadata": {},
   "outputs": [],
   "source": [
    " # Data Cleaning and Splitting into Sentences\n",
    "sentences_sense = re.split(r'\\. |\\? |\\! ', sense_data)  # Splitting based on sentence endings\n",
    "sentences_pride = re.split(r'\\. |\\? |\\! ', pride_data) "
   ]
  },
  {
   "attachments": {},
   "cell_type": "markdown",
   "metadata": {},
   "source": [
    "Next, I'd like to calcultate the word count in each of these sentences."
   ]
  },
  {
   "cell_type": "code",
   "execution_count": 53,
   "metadata": {},
   "outputs": [],
   "source": [
    "# Calculate word count for each sentence\n",
    "sentence_word_counts_sense = [len(sentence.split()) for sentence in sentences_sense]\n",
    "sentence_word_counts_pride = [len(sentence.split()) for sentence in sentences_pride]"
   ]
  },
  {
   "attachments": {},
   "cell_type": "markdown",
   "metadata": {},
   "source": [
    "Next I'd like to make columns for this sentence data in the data frames I've already made. "
   ]
  },
  {
   "cell_type": "code",
   "execution_count": 54,
   "metadata": {},
   "outputs": [],
   "source": [
    "  # Add the sentence data and cumulative word counts to the sense_data DataFrame\n",
    "sense_data_df = pd.DataFrame({\n",
    "        \"Sentence\": sentences_sense,\n",
    "    \n",
    "    })\n",
    "\n",
    " # Add the sentence data and cumulative word counts to the pride_data DataFrame\n",
    "pride_data_df = pd.DataFrame({\n",
    "        \"Sentence\": sentences_pride,\n",
    "      \n",
    "    })"
   ]
  },
  {
   "cell_type": "code",
   "execution_count": 55,
   "metadata": {},
   "outputs": [],
   "source": [
    "\n",
    "\n",
    "# Calculate word count for each sentence\n",
    "#sentence_word_counts_sense = [len(sentence.split()) for sentence in sentences_sense]\n",
    "#sentence_word_counts_pride = [len(sentence.split()) for sentence in sentences_pride]\n",
    "\n",
    "# Calculate cumulative word count for sentences\n",
    "#cumulative_word_counts_sense = [sum(sentence_word_counts_sense[:i+1]) for i in range(len(sentence_word_counts_sense))]\n",
    "#cumulative_word_counts_pride = [sum(sentence_word_counts_pride[:i+1]) for i in range(len(sentence_word_counts_pride))]\n",
    "\n",
    "\n"
   ]
  },
  {
   "cell_type": "markdown",
   "metadata": {},
   "source": []
  },
  {
   "cell_type": "code",
   "execution_count": 56,
   "metadata": {},
   "outputs": [],
   "source": [
    "# Data Cleaning and Merge\n",
    "sense_words = sense_data.split()\n",
    "pride_words = pride_data.split()\n",
    "\n",
    "sense_df = pd.DataFrame({\"Words\": sense_words})\n",
    "pride_df = pd.DataFrame({\"Words\": pride_words})\n",
    "\n",
    "merged_df = pd.merge(sense_df, pride_df, on=\"Words\", how=\"inner\")\n"
   ]
  },
  {
   "cell_type": "code",
   "execution_count": 57,
   "metadata": {},
   "outputs": [
    {
     "data": {
      "text/html": [
       "<div>\n",
       "<style scoped>\n",
       "    .dataframe tbody tr th:only-of-type {\n",
       "        vertical-align: middle;\n",
       "    }\n",
       "\n",
       "    .dataframe tbody tr th {\n",
       "        vertical-align: top;\n",
       "    }\n",
       "\n",
       "    .dataframe thead th {\n",
       "        text-align: right;\n",
       "    }\n",
       "</style>\n",
       "<table border=\"1\" class=\"dataframe\">\n",
       "  <thead>\n",
       "    <tr style=\"text-align: right;\">\n",
       "      <th></th>\n",
       "      <th>Words</th>\n",
       "    </tr>\n",
       "  </thead>\n",
       "  <tbody>\n",
       "    <tr>\n",
       "      <th>0</th>\n",
       "      <td>ï»¿The</td>\n",
       "    </tr>\n",
       "    <tr>\n",
       "      <th>1</th>\n",
       "      <td>Project</td>\n",
       "    </tr>\n",
       "    <tr>\n",
       "      <th>2</th>\n",
       "      <td>Project</td>\n",
       "    </tr>\n",
       "    <tr>\n",
       "      <th>3</th>\n",
       "      <td>Project</td>\n",
       "    </tr>\n",
       "    <tr>\n",
       "      <th>4</th>\n",
       "      <td>Project</td>\n",
       "    </tr>\n",
       "  </tbody>\n",
       "</table>\n",
       "</div>"
      ],
      "text/plain": [
       "     Words\n",
       "0   ï»¿The\n",
       "1  Project\n",
       "2  Project\n",
       "3  Project\n",
       "4  Project"
      ]
     },
     "execution_count": 57,
     "metadata": {},
     "output_type": "execute_result"
    }
   ],
   "source": [
    "merged_df.head()"
   ]
  },
  {
   "cell_type": "code",
   "execution_count": 58,
   "metadata": {},
   "outputs": [],
   "source": [
    "word_count_comparison = merged_df[\"Words\"].value_counts()\n",
    "\n",
    "sentence_length_sense = sense_data.split(\".\")\n",
    "sentence_length_pride = pride_data.split(\".\")\n",
    "\n",
    "avg_sentence_length_sense = sum(len(sentence.split()) for sentence in sentence_length_sense) / len(sentence_length_sense)\n",
    "avg_sentence_length_pride = sum(len(sentence.split()) for sentence in sentence_length_pride) / len(sentence_length_pride)\n"
   ]
  },
  {
   "cell_type": "code",
   "execution_count": 59,
   "metadata": {},
   "outputs": [
    {
     "name": "stdout",
     "output_type": "stream",
     "text": [
      "Word Count Comparison:\n",
      "Words\n",
      "the           18743913\n",
      "to            17698500\n",
      "of            14683896\n",
      "and           11613239\n",
      "a              4242079\n",
      "                ...   \n",
      "deceived;            1\n",
      "miserable;           1\n",
      "forwarded            1\n",
      "gone;                1\n",
      "eBooks.              1\n",
      "Name: count, Length: 6910, dtype: int64\n",
      "\n",
      "Average Sentence Length (Sense and Sensibility):\n",
      "23.867677725118483\n",
      "\n",
      "Average Sentence Length (Pride and Prejudice):\n",
      "19.716469354113592\n"
     ]
    }
   ],
   "source": [
    "print(\"Word Count Comparison:\")\n",
    "print(word_count_comparison)\n",
    "\n",
    "print(\"\\nAverage Sentence Length (Sense and Sensibility):\")\n",
    "print(avg_sentence_length_sense)\n",
    "\n",
    "print(\"\\nAverage Sentence Length (Pride and Prejudice):\")\n",
    "print(avg_sentence_length_pride)"
   ]
  },
  {
   "cell_type": "code",
   "execution_count": 60,
   "metadata": {},
   "outputs": [],
   "source": [
    "# Line Chart\n",
    "#plt.subplot(1, 3, 2)\n",
    "#plt.plot([0, 1], [avg_sentence_length_sense, avg_sentence_length_pride], marker=\"o\")\n",
    "#plt.title(\"Average Sentence Length\")\n",
    "#plt.xticks([0, 1], [\"Sense and Sensibility\", \"Pride and Prejudice\"])\n",
    "#plt.xlabel(\"Novel\")\n",
    "#plt.ylabel(\"Average Length\")\n"
   ]
  },
  {
   "cell_type": "code",
   "execution_count": 61,
   "metadata": {},
   "outputs": [],
   "source": [
    "query = \"SELECT Words, COUNT(*) as Count FROM merged_df GROUP BY Words ORDER BY Count DESC LIMIT 5\"\n",
    "result = ps.sqldf(query) \n",
    "\n",
    "# Pie Chart\n",
    "plt.subplot(1, 3, 3)\n",
    "plt.pie(result[\"Count\"], labels=result[\"Words\"], autopct=\"%1.1f%%\")\n",
    "plt.title(\"Most Common Words\")\n",
    "plt.axis(\"equal\")\n",
    "\n",
    "plt.tight_layout()\n",
    "plt.show()"
   ]
  },
  {
   "cell_type": "code",
   "execution_count": null,
   "metadata": {},
   "outputs": [
    {
     "name": "stdout",
     "output_type": "stream",
     "text": [
      "Empty DataFrame\n",
      "Columns: [Chapter, Content, Word_Count]\n",
      "Index: []\n"
     ]
    }
   ],
   "source": [
    "# Data Cleaning and Splitting into Chapters\n",
    "chapters = re.split(r'\\bChapter \\d+\\b', pride_data)[1:]  # Splitting based on chapter headings\n",
    "chapter_numbers = [f\"Chapter {i}\" for i in range(1, len(chapters) + 1)]\n",
    "\n",
    "# Calculate word count for each chapter\n",
    "word_counts = [len(chapter.split()) for chapter in chapters]\n",
    "\n",
    "# Create a DataFrame to store the chapter data\n",
    "chapter_df = pd.DataFrame({\n",
    "        \"Chapter\": chapter_numbers,\n",
    "        \"Content\": chapters,\n",
    "        \"Word_Count\": word_counts\n",
    "    })\n",
    "\n",
    " # Display the DataFrame\n",
    "print(chapter_df)\n"
   ]
  }
 ],
 "metadata": {
  "kernelspec": {
   "display_name": "venv",
   "language": "python",
   "name": "python3"
  },
  "language_info": {
   "codemirror_mode": {
    "name": "ipython",
    "version": 3
   },
   "file_extension": ".py",
   "mimetype": "text/x-python",
   "name": "python",
   "nbconvert_exporter": "python",
   "pygments_lexer": "ipython3",
   "version": "3.11.2"
  },
  "orig_nbformat": 4
 },
 "nbformat": 4,
 "nbformat_minor": 2
}
